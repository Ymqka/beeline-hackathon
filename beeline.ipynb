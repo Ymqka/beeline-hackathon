{
 "cells": [
  {
   "cell_type": "code",
   "execution_count": 1,
   "metadata": {},
   "outputs": [],
   "source": [
    "import pandas as pd                                  # pandas to work with DF\n",
    "from sklearn.model_selection import train_test_split # to split data into train and test sets\n",
    "from sklearn.preprocessing import PolynomialFeatures # i tried to add to X Poly features, but it didn't work\n",
    "from sklearn.metrics import accuracy_score           # to score our model\n",
    "from sklearn.ensemble import RandomForestClassifier  # i found that RandomForest makes not bad predictions\n",
    "from matplotlib import pyplot as plt\n",
    "%matplotlib inline"
   ]
  },
  {
   "cell_type": "code",
   "execution_count": 2,
   "metadata": {},
   "outputs": [],
   "source": [
    "df = pd.read_csv('train.csv') #reading csv file to DataFrame\n",
    "df1 = df[:5000]               #to train our model faster\n",
    "y = df['y']                   # get y(label) from df\n",
    "X = df.drop('y',axis=1)       # get train data without labelss"
   ]
  },
  {
   "cell_type": "code",
   "execution_count": 3,
   "metadata": {
    "scrolled": false
   },
   "outputs": [],
   "source": [
    "for item in X.columns: # this loop for filling column that have type = object with most frequent values\n",
    "    if X[item].dtype == object:\n",
    "        modval = X[item].mode().values\n",
    "        strmodval = ''.join(str(a) for a in modval)\n",
    "        X[item] = X[item].fillna(strmodval)"
   ]
  },
  {
   "cell_type": "code",
   "execution_count": 4,
   "metadata": {},
   "outputs": [],
   "source": [
    "for item in X.columns: # this loop for filling column that have type = object with mean values\n",
    "    if X[item].dtype == 'float64':\n",
    "        X[item] = X[item].fillna(X[item].mean())"
   ]
  },
  {
   "cell_type": "code",
   "execution_count": 5,
   "metadata": {},
   "outputs": [],
   "source": [
    "for item in X.columns: # this loop is converting unreadeable strings into int values for further training model\n",
    "    if X[item].dtype == object:\n",
    "        my_dict = dict(enumerate(X[item].unique())) \n",
    "        my_dict1 = dict((y,x) for x, y in my_dict.items())\n",
    "        X[item] = X[item].map(my_dict1)\n"
   ]
  },
  {
   "cell_type": "code",
   "execution_count": 11,
   "metadata": {},
   "outputs": [],
   "source": [
    "X['y'] = y\n",
    "for idx, feature in enumerate(X.columns[:-1]):\n",
    "    X.plot(feature, 'y', subplots=True, kind = 'scatter')"
   ]
  },
  {
   "cell_type": "code",
   "execution_count": 16,
   "metadata": {},
   "outputs": [],
   "source": [
    "x_train, x_test, y_train, y_test = train_test_split(X, y, random_state=42, test_size = 0.1) # spliting data into train and test"
   ]
  },
  {
   "cell_type": "code",
   "execution_count": 18,
   "metadata": {},
   "outputs": [
    {
     "data": {
      "text/plain": [
       "0.7408"
      ]
     },
     "execution_count": 18,
     "metadata": {},
     "output_type": "execute_result"
    }
   ],
   "source": [
    "clf = RandomForestClassifier(n_estimators=50, max_depth=30, max_features=15) #training and scoring model\n",
    "clf.fit(x_train, y_train)\n",
    "y_pred =  clf.predict(x_test)\n",
    "accuracy_score(y_test, y_pred)"
   ]
  },
  {
   "cell_type": "code",
   "execution_count": null,
   "metadata": {},
   "outputs": [],
   "source": []
  }
 ],
 "metadata": {
  "kernelspec": {
   "display_name": "Python 3",
   "language": "python",
   "name": "python3"
  },
  "language_info": {
   "codemirror_mode": {
    "name": "ipython",
    "version": 3
   },
   "file_extension": ".py",
   "mimetype": "text/x-python",
   "name": "python",
   "nbconvert_exporter": "python",
   "pygments_lexer": "ipython3",
   "version": "3.6.5"
  }
 },
 "nbformat": 4,
 "nbformat_minor": 2
}
